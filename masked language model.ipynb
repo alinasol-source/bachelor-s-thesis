{
 "cells": [
  {
   "cell_type": "code",
   "execution_count": 1,
   "id": "083d784b",
   "metadata": {},
   "outputs": [
    {
     "name": "stderr",
     "output_type": "stream",
     "text": [
      "FAISS not available. Switching to standard nearest neighbors search implementation.\n"
     ]
    }
   ],
   "source": [
    "import os\n",
    "import torch\n",
    "\n",
    "from xlm.utils import AttrDict\n",
    "from xlm.data.dictionary import Dictionary, BOS_WORD, EOS_WORD, PAD_WORD, UNK_WORD, MASK_WORD\n",
    "from xlm.model.transformer import TransformerModel"
   ]
  },
  {
   "cell_type": "code",
   "execution_count": 2,
   "id": "36472bb5",
   "metadata": {},
   "outputs": [
    {
     "name": "stdout",
     "output_type": "stream",
     "text": [
      "Supported languages: af, als, am, an, ang, ar, arz, ast, az, bar, be, bg, bn, br, bs, ca, ceb, ckb, cs, cy, da, de, el, en, eo, es, et, eu, fa, fi, fr, fy, ga, gan, gl, gu, he, hi, hr, hu, hy, ia, id, is, it, ja, jv, ka, kk, kn, ko, ku, la, lb, lt, lv, mk, ml, mn, mr, ms, my, nds, ne, nl, nn, no, oc, pl, pt, ro, ru, scn, sco, sh, si, simple, sk, sl, sq, sr, sv, sw, ta, te, th, tl, tr, tt, uk, ur, uz, vi, war, wuu, yi, zh, zh_classical, zh_min_nan, zh_yue\n"
     ]
    }
   ],
   "source": [
    "model_path = 'mlm_100_1280.pth'\n",
    "reloaded = torch.load(model_path, map_location=torch.device('cpu'))\n",
    "params = AttrDict(reloaded['params'])\n",
    "print(\"Supported languages: %s\" % \", \".join(params.lang2id.keys()))"
   ]
  },
  {
   "cell_type": "code",
   "execution_count": 3,
   "id": "f6090f9d",
   "metadata": {},
   "outputs": [
    {
     "data": {
      "text/plain": [
       "<All keys matched successfully>"
      ]
     },
     "execution_count": 3,
     "metadata": {},
     "output_type": "execute_result"
    }
   ],
   "source": [
    "dico = Dictionary(reloaded['dico_id2word'], reloaded['dico_word2id'], reloaded['dico_counts'])\n",
    "params.n_words = len(dico)\n",
    "params.bos_index = dico.index(BOS_WORD)\n",
    "params.eos_index = dico.index(EOS_WORD)\n",
    "params.pad_index = dico.index(PAD_WORD)\n",
    "params.unk_index = dico.index(UNK_WORD)\n",
    "params.mask_index = dico.index(MASK_WORD)\n",
    "\n",
    "# build model / reload weights\n",
    "model = TransformerModel(params, dico, True, True)\n",
    "model.eval()\n",
    "model.load_state_dict(reloaded['model'])"
   ]
  },
  {
   "cell_type": "code",
   "execution_count": 4,
   "id": "d3bca7b5",
   "metadata": {},
   "outputs": [],
   "source": [
    "mk = model.embeddings.weight[dico.index('мајка')].detach().numpy() \n",
    "ru = model.embeddings.weight[dico.index('мама')].detach().numpy() \n",
    "uk = model.embeddings.weight[dico.index('мати')].detach().numpy() \n",
    "bg = model.embeddings.weight[dico.index('майка')].detach().numpy() \n",
    "sl = model.embeddings.weight[dico.index('matka')].detach().numpy() "
   ]
  },
  {
   "cell_type": "code",
   "execution_count": 5,
   "id": "ad944273",
   "metadata": {},
   "outputs": [],
   "source": [
    "slavic_group = []\n",
    "slavic_group.append(mk)\n",
    "slavic_group.append(ru)\n",
    "slavic_group.append(uk)\n",
    "slavic_group.append(bg)\n",
    "slavic_group.append(sl)"
   ]
  },
  {
   "cell_type": "code",
   "execution_count": 6,
   "id": "845f38c1",
   "metadata": {},
   "outputs": [
    {
     "data": {
      "text/plain": [
       "[array([ 0.02212524, -0.02745056,  0.00708008, ..., -0.01311493,\n",
       "        -0.03070068, -0.02415466], dtype=float32),\n",
       " array([ 0.00144672, -0.03787231,  0.09863281, ...,  0.00145912,\n",
       "        -0.06896973, -0.00798035], dtype=float32),\n",
       " array([ 0.00824738, -0.01945496,  0.0125351 , ...,  0.02302551,\n",
       "        -0.05166626,  0.02682495], dtype=float32),\n",
       " array([ 0.02934265, -0.04785156,  0.02790833, ..., -0.02983093,\n",
       "         0.00952148, -0.04238892], dtype=float32),\n",
       " array([ 0.04559326,  0.02922058,  0.07183838, ..., -0.05783081,\n",
       "         0.01596069, -0.05136108], dtype=float32)]"
      ]
     },
     "execution_count": 6,
     "metadata": {},
     "output_type": "execute_result"
    }
   ],
   "source": [
    "slavic_group"
   ]
  },
  {
   "cell_type": "code",
   "execution_count": 7,
   "id": "75b68305",
   "metadata": {},
   "outputs": [],
   "source": [
    "slavic = {}\n",
    "slavic['sl'] = sl\n",
    "slavic['ru'] = ru\n",
    "slavic['mk'] = mk\n",
    "slavic['uk'] = uk\n",
    "slavic['bg'] = bg"
   ]
  },
  {
   "cell_type": "code",
   "execution_count": 8,
   "id": "6befb106",
   "metadata": {},
   "outputs": [
    {
     "data": {
      "text/plain": [
       "{'sl': array([ 0.04559326,  0.02922058,  0.07183838, ..., -0.05783081,\n",
       "         0.01596069, -0.05136108], dtype=float32),\n",
       " 'ru': array([ 0.00144672, -0.03787231,  0.09863281, ...,  0.00145912,\n",
       "        -0.06896973, -0.00798035], dtype=float32),\n",
       " 'mk': array([ 0.02212524, -0.02745056,  0.00708008, ..., -0.01311493,\n",
       "        -0.03070068, -0.02415466], dtype=float32),\n",
       " 'uk': array([ 0.00824738, -0.01945496,  0.0125351 , ...,  0.02302551,\n",
       "        -0.05166626,  0.02682495], dtype=float32),\n",
       " 'bg': array([ 0.02934265, -0.04785156,  0.02790833, ..., -0.02983093,\n",
       "         0.00952148, -0.04238892], dtype=float32)}"
      ]
     },
     "execution_count": 8,
     "metadata": {},
     "output_type": "execute_result"
    }
   ],
   "source": [
    "slavic"
   ]
  },
  {
   "cell_type": "code",
   "execution_count": 10,
   "id": "2ad61ebc",
   "metadata": {},
   "outputs": [],
   "source": [
    "roman = {}\n",
    "roman['pt'] = model.embeddings.weight[dico.index('mãe')].detach().numpy()\n",
    "roman['fr'] = model.embeddings.weight[dico.index('mère')].detach().numpy()\n",
    "roman['it'] = model.embeddings.weight[dico.index('madre')].detach().numpy()\n",
    "roman['es'] = model.embeddings.weight[dico.index('madre')].detach().numpy()\n",
    "roman['rm'] = model.embeddings.weight[dico.index('mamă')].detach().numpy()"
   ]
  },
  {
   "cell_type": "code",
   "execution_count": 32,
   "id": "865ec8e0",
   "metadata": {},
   "outputs": [
    {
     "data": {
      "text/plain": [
       "{'pt': array([-0.00211143,  0.03900146,  0.01464081, ..., -0.0350647 ,\n",
       "        -0.00086069, -0.00820923], dtype=float32),\n",
       " 'fr': array([-0.01029968,  0.05157471,  0.02561951, ..., -0.00738907,\n",
       "         0.03851318, -0.03323364], dtype=float32),\n",
       " 'it': array([-0.00174713, -0.00039053,  0.07434082, ..., -0.03897095,\n",
       "         0.01820374, -0.06933594], dtype=float32),\n",
       " 'es': array([-0.00174713, -0.00039053,  0.07434082, ..., -0.03897095,\n",
       "         0.01820374, -0.06933594], dtype=float32),\n",
       " 'rm': array([-0.00756073, -0.01541138,  0.01435852, ...,  0.02960205,\n",
       "        -0.00991058, -0.02607727], dtype=float32)}"
      ]
     },
     "execution_count": 32,
     "metadata": {},
     "output_type": "execute_result"
    }
   ],
   "source": [
    "roman"
   ]
  },
  {
   "cell_type": "code",
   "execution_count": 11,
   "id": "69158d13",
   "metadata": {},
   "outputs": [],
   "source": [
    "roman_group = []\n",
    "for k in roman:\n",
    "    roman_group.append(roman[k])"
   ]
  },
  {
   "cell_type": "code",
   "execution_count": 34,
   "id": "fdf09307",
   "metadata": {},
   "outputs": [
    {
     "name": "stdout",
     "output_type": "stream",
     "text": [
      "Variance explained: 0.41\n"
     ]
    }
   ],
   "source": [
    "from sklearn.decomposition import PCA\n",
    "import numpy as np\n",
    "pca = PCA(n_components=2, whiten=True)  # TSNE(n_components=2, n_iter=3000, verbose=2)\n",
    "pca.fit(np.vstack([slavic_group,roman_group]))\n",
    "print('Variance explained: %.2f' % pca.explained_variance_ratio_.sum())"
   ]
  },
  {
   "cell_type": "code",
   "execution_count": 35,
   "id": "a993f362",
   "metadata": {},
   "outputs": [
    {
     "data": {
      "image/png": "[encoded data removed]",
      "text/plain": [
       "<Figure size 800x640 with 1 Axes>"
      ]
     },
     "metadata": {
      "needs_background": "light"
     },
     "output_type": "display_data"
    }
   ],
   "source": [
    "import matplotlib.pyplot as plt\n",
    "Y = []\n",
    "langs = []\n",
    "\n",
    "for k in slavic:\n",
    "    Y.append(slavic[k])\n",
    "    langs. append(k)\n",
    "# for k in german:\n",
    "#     Y.append(german[k])\n",
    "#     langs. append(k)\n",
    "\n",
    "for k in roman:\n",
    "    Y.append(roman[k])\n",
    "    langs. append(k)\n",
    "\n",
    "\n",
    "# find tsne coords for 2 dimensions\n",
    "Y = pca.transform(Y)\n",
    "x_coords = Y[:, 0]\n",
    "y_coords = Y[:, 1]\n",
    "\n",
    "    # display scatter plot\n",
    "plt.figure(figsize=(10, 8), dpi=80)\n",
    "plt.scatter(x_coords, y_coords, marker='x')\n",
    "for k, (label, x, y) in enumerate(zip(langs, x_coords, y_coords)):\n",
    "    if k in [0,4]:\n",
    "        color = 'blue'\n",
    "    if k in [5,9]:\n",
    "        color = 'red'\n",
    "#     if k in [10,14]:\n",
    "#         color = 'm'\n",
    "    #color = 'blue' if k<len(slavic) else color = 'red'  # src words in blue / tgt words in red\n",
    "    plt.annotate(label, xy=(x, y), xytext=(0, 0), textcoords='offset points', fontsize=19,\n",
    "                    color=color, weight='bold')\n",
    "\n",
    "\n",
    "plt.xlim(x_coords.min() - 0.2, x_coords.max() + 0.2)\n",
    "plt.ylim(y_coords.min() - 0.2, y_coords.max() + 0.2)\n",
    "plt.title('Visualization of the multilingual word embedding space')\n",
    "\n",
    "plt.show()"
   ]
  },
  {
   "cell_type": "code",
   "execution_count": 50,
   "id": "0b24f435",
   "metadata": {},
   "outputs": [],
   "source": [
    "baltic = {}\n",
    "baltic['lv'] = model.embeddings.weight[dico.index('māte')].detach().numpy()\n",
    "baltic['lt'] = model.embeddings.weight[dico.index('motina')].detach().numpy()\n",
    "keltic = {}\n",
    "keltic['kr'] = model.embeddings.weight[dico.index('manman')].detach().numpy()\n",
    "keltic['ir'] = model.embeddings.weight[dico.index('Máthair')].detach().numpy()\n",
    "keltic['vl'] = model.embeddings.weight[dico.index('mam')].detach().numpy()\n",
    "baltic_group = []\n",
    "for k in baltic:\n",
    "    baltic_group.append(baltic[k])\n",
    "keltic_group = []\n",
    "for k in keltic:\n",
    "    keltic_group.append(keltic[k])"
   ]
  },
  {
   "cell_type": "code",
   "execution_count": 51,
   "id": "1da09e5e",
   "metadata": {},
   "outputs": [
    {
     "data": {
      "text/plain": [
       "{'lv': array([-0.00756073, -0.01541138,  0.01435852, ...,  0.02960205,\n",
       "        -0.00991058, -0.02607727], dtype=float32),\n",
       " 'lt': array([-0.00756073, -0.01541138,  0.01435852, ...,  0.02960205,\n",
       "        -0.00991058, -0.02607727], dtype=float32)}"
      ]
     },
     "execution_count": 51,
     "metadata": {},
     "output_type": "execute_result"
    }
   ],
   "source": [
    "baltic"
   ]
  },
  {
   "cell_type": "code",
   "execution_count": 46,
   "id": "82fd62a9",
   "metadata": {},
   "outputs": [
    {
     "data": {
      "text/plain": [
       "[array([-0.00756073, -0.01541138,  0.01435852, ...,  0.02960205,\n",
       "        -0.00991058, -0.02607727], dtype=float32),\n",
       " array([-0.00756073, -0.01541138,  0.01435852, ...,  0.02960205,\n",
       "        -0.00991058, -0.02607727], dtype=float32),\n",
       " array([ 0.03421021, -0.00427628,  0.03323364, ..., -0.04333496,\n",
       "        -0.01701355, -0.03108215], dtype=float32)]"
      ]
     },
     "execution_count": 46,
     "metadata": {},
     "output_type": "execute_result"
    }
   ],
   "source": [
    "keltic_group"
   ]
  },
  {
   "cell_type": "code",
   "execution_count": 52,
   "id": "781a6dbe",
   "metadata": {},
   "outputs": [
    {
     "name": "stdout",
     "output_type": "stream",
     "text": [
      "Variance explained: 1.00\n"
     ]
    }
   ],
   "source": [
    "from sklearn.decomposition import PCA\n",
    "import numpy as np\n",
    "pca = PCA(n_components=2, whiten=True)  # TSNE(n_components=2, n_iter=3000, verbose=2)\n",
    "pca.fit(np.vstack(keltic_group))\n",
    "print('Variance explained: %.2f' % pca.explained_variance_ratio_.sum())"
   ]
  },
  {
   "cell_type": "code",
   "execution_count": 54,
   "id": "e43077b6",
   "metadata": {},
   "outputs": [
    {
     "data": {
      "image/png": "[encoded data removed]",
      "text/plain": [
       "<Figure size 800x640 with 1 Axes>"
      ]
     },
     "metadata": {
      "needs_background": "light"
     },
     "output_type": "display_data"
    }
   ],
   "source": [
    "import matplotlib.pyplot as plt\n",
    "Y = []\n",
    "langs = []\n",
    "\n",
    "for k in keltic:\n",
    "    Y.append(keltic[k])\n",
    "    langs. append(k)\n",
    "# for k in baltic:\n",
    "#     Y.append(baltic[k])\n",
    "#     langs. append(k)\n",
    "\n",
    "\n",
    "# find tsne coords for 2 dimensions\n",
    "Y = pca.transform(Y)\n",
    "x_coords = Y[:, 0]\n",
    "y_coords = Y[:, 1]\n",
    "\n",
    "    # display scatter plot\n",
    "plt.figure(figsize=(10, 8), dpi=80)\n",
    "plt.scatter(x_coords, y_coords, marker='x')\n",
    "for k, (label, x, y) in enumerate(zip(langs, x_coords, y_coords)):\n",
    "#     if k in [0,1]:\n",
    "#         color = 'blue'\n",
    "#     if k in [2,3]:\n",
    "#         color = 'red'\n",
    "#     if k in [10,14]:\n",
    "#         color = 'm'\n",
    "    #color = 'blue' if k<len(slavic) else color = 'red'  # src words in blue / tgt words in red\n",
    "    plt.annotate(label, xy=(x, y), xytext=(0, 0), textcoords='offset points', fontsize=19,\n",
    "                    color=color, weight='bold')\n",
    "\n",
    "\n",
    "plt.xlim(x_coords.min() - 0.2, x_coords.max() + 0.2)\n",
    "plt.ylim(y_coords.min() - 0.2, y_coords.max() + 0.2)\n",
    "plt.title('Visualization of the multilingual word embedding space')\n",
    "\n",
    "plt.show()"
   ]
  },
  {
   "cell_type": "code",
   "execution_count": 56,
   "id": "6c8d1189",
   "metadata": {},
   "outputs": [],
   "source": [
    "german = {}\n",
    "german['en'] = model.embeddings.weight[dico.index('mother')].detach().numpy()\n",
    "german['de'] = model.embeddings.weight[dico.index('mutter')].detach().numpy()\n",
    "german['da'] = model.embeddings.weight[dico.index('mor')].detach().numpy()\n",
    "german['is'] = model.embeddings.weight[dico.index('móður')].detach().numpy()\n",
    "german['nr'] = model.embeddings.weight[dico.index('moeder')].detach().numpy()\n",
    "german_group = []\n",
    "for k in german:\n",
    "    german_group.append(german[k])"
   ]
  },
  {
   "cell_type": "code",
   "execution_count": 57,
   "id": "e399ba2b",
   "metadata": {},
   "outputs": [
    {
     "data": {
      "text/plain": [
       "{'en': array([ 0.06585693,  0.00372696,  0.00466919, ..., -0.01594543,\n",
       "         0.04299927, -0.03610229], dtype=float32),\n",
       " 'de': array([-0.00756073, -0.01541138,  0.01435852, ...,  0.02960205,\n",
       "        -0.00991058, -0.02607727], dtype=float32),\n",
       " 'da': array([ 0.00802612, -0.02618408, -0.01789856, ...,  0.01365662,\n",
       "         0.04144287, -0.01207733], dtype=float32),\n",
       " 'is': array([-0.00756073, -0.01541138,  0.01435852, ...,  0.02960205,\n",
       "        -0.00991058, -0.02607727], dtype=float32),\n",
       " 'nr': array([ 0.04269409, -0.04165649,  0.0585022 , ..., -0.01986694,\n",
       "         0.00898743, -0.01399231], dtype=float32)}"
      ]
     },
     "execution_count": 57,
     "metadata": {},
     "output_type": "execute_result"
    }
   ],
   "source": [
    "german"
   ]
  },
  {
   "cell_type": "code",
   "execution_count": 63,
   "id": "44b5fe0d",
   "metadata": {},
   "outputs": [
    {
     "name": "stdout",
     "output_type": "stream",
     "text": [
      "Variance explained: 0.43\n"
     ]
    }
   ],
   "source": [
    "from sklearn.decomposition import PCA\n",
    "import numpy as np\n",
    "pca = PCA(n_components=2, whiten=True)  # TSNE(n_components=2, n_iter=3000, verbose=2)\n",
    "pca.fit(np.vstack([german_group,slavic_group,roman_group]))\n",
    "print('Variance explained: %.2f' % pca.explained_variance_ratio_.sum())"
   ]
  },
  {
   "cell_type": "code",
   "execution_count": 65,
   "id": "2cf40f7c",
   "metadata": {},
   "outputs": [
    {
     "data": {
      "image/png": "[encoded data removed]",
      "text/plain": [
       "<Figure size 800x640 with 1 Axes>"
      ]
     },
     "metadata": {
      "needs_background": "light"
     },
     "output_type": "display_data"
    }
   ],
   "source": [
    "import matplotlib.pyplot as plt\n",
    "Y = []\n",
    "langs = []\n",
    "\n",
    "for k in german:\n",
    "    Y.append(german[k])\n",
    "    langs. append(k)\n",
    "for k in slavic:\n",
    "    Y.append(slavic[k])\n",
    "    langs. append(k)\n",
    "for k in roman:\n",
    "    Y.append(roman[k])\n",
    "    langs. append(k)\n",
    "# for k in baltic:\n",
    "#     Y.append(baltic[k])\n",
    "#     langs. append(k)\n",
    "\n",
    "\n",
    "# find tsne coords for 2 dimensions\n",
    "Y = pca.transform(Y)\n",
    "x_coords = Y[:, 0]\n",
    "y_coords = Y[:, 1]\n",
    "\n",
    "    # display scatter plot\n",
    "plt.figure(figsize=(10, 8), dpi=80)\n",
    "plt.scatter(x_coords, y_coords, marker='x')\n",
    "for k, (label, x, y) in enumerate(zip(langs, x_coords, y_coords)):\n",
    "    if k in [0,4]:\n",
    "        color = 'blue'\n",
    "    if k in [5,9]:\n",
    "        color = 'red'\n",
    "    if k in [10,14]:\n",
    "        color = 'm'\n",
    "    #color = 'blue' if k<len(slavic) else color = 'red'  # src words in blue / tgt words in red\n",
    "    plt.annotate(label, xy=(x, y), xytext=(0, 0), textcoords='offset points', fontsize=19,\n",
    "                    color=color, weight='bold')\n",
    "\n",
    "\n",
    "plt.xlim(x_coords.min() - 0.2, x_coords.max() + 0.2)\n",
    "plt.ylim(y_coords.min() - 0.2, y_coords.max() + 0.2)\n",
    "plt.title('Visualization of the multilingual word embedding space')\n",
    "\n",
    "plt.show()"
   ]
  },
  {
   "cell_type": "code",
   "execution_count": 72,
   "id": "9e901fab",
   "metadata": {},
   "outputs": [],
   "source": [
    "soviet = {}\n",
    "soviet['ru']=model.embeddings.weight[dico.index('самовар')].detach().numpy()\n",
    "soviet['en']=model.embeddings.weight[dico.index('samovar')].detach().numpy()\n",
    "soviet['fr']=model.embeddings.weight[dico.index('samovar')].detach().numpy()\n",
    "soviet['de']=model.embeddings.weight[dico.index('Samowar')].detach().numpy()\n",
    "soviet['uk']=model.embeddings.weight[dico.index('самовар')].detach().numpy()\n",
    "soviet['mk']=model.embeddings.weight[dico.index('самовар')].detach().numpy()\n",
    "soviet['af']=model.embeddings.weight[dico.index('samowar')].detach().numpy()"
   ]
  },
  {
   "cell_type": "code",
   "execution_count": 73,
   "id": "d2105a69",
   "metadata": {},
   "outputs": [],
   "source": [
    "soviet_group = []\n",
    "for k in soviet:\n",
    "    soviet_group.append(soviet[k])"
   ]
  },
  {
   "cell_type": "code",
   "execution_count": 74,
   "id": "436afe4e",
   "metadata": {},
   "outputs": [
    {
     "data": {
      "text/plain": [
       "{'ru': array([-0.00756073, -0.01541138,  0.01435852, ...,  0.02960205,\n",
       "        -0.00991058, -0.02607727], dtype=float32),\n",
       " 'en': array([-0.00756073, -0.01541138,  0.01435852, ...,  0.02960205,\n",
       "        -0.00991058, -0.02607727], dtype=float32),\n",
       " 'fr': array([-0.00756073, -0.01541138,  0.01435852, ...,  0.02960205,\n",
       "        -0.00991058, -0.02607727], dtype=float32),\n",
       " 'de': array([-0.00756073, -0.01541138,  0.01435852, ...,  0.02960205,\n",
       "        -0.00991058, -0.02607727], dtype=float32),\n",
       " 'uk': array([-0.00756073, -0.01541138,  0.01435852, ...,  0.02960205,\n",
       "        -0.00991058, -0.02607727], dtype=float32),\n",
       " 'mk': array([-0.00756073, -0.01541138,  0.01435852, ...,  0.02960205,\n",
       "        -0.00991058, -0.02607727], dtype=float32),\n",
       " 'af': array([-0.00756073, -0.01541138,  0.01435852, ...,  0.02960205,\n",
       "        -0.00991058, -0.02607727], dtype=float32)}"
      ]
     },
     "execution_count": 74,
     "metadata": {},
     "output_type": "execute_result"
    }
   ],
   "source": [
    "soviet"
   ]
  },
  {
   "cell_type": "code",
   "execution_count": null,
   "id": "90fc738e",
   "metadata": {},
   "outputs": [],
   "source": []
  }
 ],
 "metadata": {
  "kernelspec": {
   "display_name": "Python 3 (ipykernel)",
   "language": "python",
   "name": "python3"
  },
  "language_info": {
   "codemirror_mode": {
    "name": "ipython",
    "version": 3
   },
   "file_extension": ".py",
   "mimetype": "text/x-python",
   "name": "python",
   "nbconvert_exporter": "python",
   "pygments_lexer": "ipython3",
   "version": "3.9.7"
  }
 },
 "nbformat": 4,
 "nbformat_minor": 5
}
